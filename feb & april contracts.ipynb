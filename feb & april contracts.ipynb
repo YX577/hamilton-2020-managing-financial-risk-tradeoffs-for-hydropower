{
 "cells": [
  {
   "cell_type": "code",
   "execution_count": 1,
   "metadata": {},
   "outputs": [],
   "source": [
    "import numpy as np\n",
    "import pandas as pd\n",
    "import math\n",
    "import statsmodels.formula.api as sm\n",
    "from statsmodels.stats.diagnostic import acorr_ljungbox\n",
    "from statsmodels.tsa.statespace.sarimax import SARIMAX\n",
    "from statsmodels.tsa.arima_model import ARIMA\n",
    "from statsmodels.tsa.api import VAR\n",
    "from statsmodels.graphics.tsaplots import plot_acf, plot_pacf\n",
    "import scipy as sp\n",
    "from scipy import stats as st\n",
    "from scipy.stats import gamma, lognorm, multivariate_normal, norm, t\n",
    "import seaborn as sbn\n",
    "import importlib\n",
    "from datetime import datetime\n",
    "import matplotlib.pyplot as plt\n",
    "from matplotlib.pyplot import cm\n",
    "import sys\n",
    "# insert at 1, 0 is the script path (or '' in REPL)\n",
    "sys.path.insert(1, 'code/synthetic_data_and_moea_plots/')\n",
    "\n",
    "### Project functions ###\n",
    "import functions_clean_data\n",
    "import functions_synthetic_data\n",
    "import functions_revenues_contracts\n",
    "\n",
    "sbn.set_style('white')\n",
    "sbn.set_context('paper', font_scale=1.55)\n",
    "\n",
    "cmap = cm.get_cmap('viridis')\n",
    "col = [cmap(0.1),cmap(0.3),cmap(0.6),cmap(0.8)]\n",
    "\n",
    "N_SAMPLES = 1000000\n",
    "eps = 1e-13\n",
    "\n",
    "dir_downloaded_inputs = './data/downloaded_inputs/'\n",
    "dir_generated_inputs = './data/generated_inputs/'\n",
    "dir_figs = './figures/'\n",
    "\n",
    "### Get and clean data\n",
    "# SWE\n",
    "importlib.reload(functions_clean_data)\n",
    "swe = functions_clean_data.get_clean_swe(dir_downloaded_inputs)[['danFeb','danApr']]\n",
    "\n",
    "# gen\n",
    "# gen = functions_clean_data.get_historical_generation(dir_downloaded_inputs, swe).reset_index()\n",
    "\n",
    "#sweSynth \n",
    "sweSynth = functions_synthetic_data.synthetic_swe(dir_generated_inputs, swe, redo = False, save = False)"
   ]
  },
  {
   "cell_type": "code",
   "execution_count": 2,
   "metadata": {},
   "outputs": [
    {
     "name": "stderr",
     "output_type": "stream",
     "text": [
      "/home/andrew/projects/hamilton-2020-managing-financial-risk-tradeoffs-for-hydropower/.venv_tradeoffs/lib/python3.6/site-packages/pandas/core/indexing.py:671: SettingWithCopyWarning: \n",
      "A value is trying to be set on a copy of a slice from a DataFrame\n",
      "\n",
      "See the caveats in the documentation: https://pandas.pydata.org/pandas-docs/stable/user_guide/indexing.html#returning-a-view-versus-a-copy\n",
      "  self._setitem_with_indexer(indexer, value)\n"
     ]
    }
   ],
   "source": [
    "# hydro generation (GWh/mnth)\n",
    "gen = functions_clean_data.get_historical_generation(dir_downloaded_inputs, swe).reset_index()\n",
    "\n",
    "# wholesale power price ($/MWh), inflation adjusted\n",
    "power = functions_clean_data.get_historical_power(dir_downloaded_inputs)\n",
    "\n",
    "# SFPUC fin year sales and rates\n",
    "hp_GWh, hp_dolPerKwh, hp_dolM = functions_clean_data.get_historical_SFPUC_sales()\n",
    "\n",
    "\n",
    "\n",
    "\n",
    "### Generate synthetic time series\n",
    "# # SWE, Feb 1 & Apr 1\n",
    "importlib.reload(functions_synthetic_data)\n",
    "sweSynth = functions_synthetic_data.synthetic_swe(dir_generated_inputs, swe, redo = False, save = False)\n",
    "\n",
    "# monthly generation, dependent on swe. Will also create fig S2, showing fitted models (gen as fn of swe) for each month.\n",
    "genSynth = functions_synthetic_data.synthetic_generation(dir_generated_inputs, dir_figs, gen, sweSynth,\n",
    "                                                         redo = False, save = False, plot = False)\n",
    "\n",
    "\n",
    "# monthly power price\n",
    "importlib.reload(functions_synthetic_data)\n",
    "powSynth = functions_synthetic_data.synthetic_power(dir_generated_inputs, power, redo = False, save = False)\n",
    "\n",
    "\n",
    "\n",
    "importlib.reload(functions_revenues_contracts)\n",
    "revHist, powHistSample, revSim = functions_revenues_contracts.simulate_revenue(dir_generated_inputs, gen, hp_GWh,\n",
    "                                                                           hp_dolPerKwh, genSynth, powSynth,\n",
    "                                                                           redo = False, save = False)\n",
    "\n",
    "\n",
    "# get index from swe/revenue relationship.\n",
    "nYr = int(len(revSim) / 12)\n",
    "yrSim = np.full((1, nYr * 12), 0)\n",
    "for i in range(1, nYr):\n",
    "  yrSim[0, (12 * i):(12 * (i + 1))] = i\n",
    "revSimWyr = revSim.groupby(yrSim[0, :(nYr * 12)]).sum()\n",
    "revHistWyr = revHist.groupby('wyear').sum()\n",
    "genSynthWyr = genSynth.groupby(yrSim[0, :(nYr * 12)]).sum()\n",
    "genHistWyr = gen.groupby(yrSim[0, :len(powHistSample)]).sum()\n",
    "powSynthWyr = powSynth.groupby(yrSim[0, :(nYr * 12)]).mean()\n",
    "powHistWyr = powHistSample.groupby(yrSim[0, :len(powHistSample)]).mean()\n",
    "\n",
    "lmRevSWE = sm.ols(formula='rev ~ sweFeb + sweApr', data=pd.DataFrame(\n",
    "  {'rev': revSimWyr.values, 'sweFeb': sweSynth.danFeb.values,\n",
    "   'sweApr': sweSynth.danApr.values}))\n",
    "lmRevSWE = lmRevSWE.fit()\n",
    "# print(lmRevSWE.summary())\n",
    "\n",
    "sweWtParams = [lmRevSWE.params[1]/(lmRevSWE.params[1]+lmRevSWE.params[2]), lmRevSWE.params[2]/(lmRevSWE.params[1]+lmRevSWE.params[2])]\n",
    "sweWtSynth = (sweWtParams[0] * sweSynth.danFeb + sweWtParams[1] * sweSynth.danApr)"
   ]
  },
  {
   "cell_type": "code",
   "execution_count": 3,
   "metadata": {},
   "outputs": [],
   "source": [
    "payoutFebSim = functions_revenues_contracts.snow_contract_payout(dir_generated_inputs, sweSynth.danFeb, contractType = 'cfd',\n",
    "                                                               label='Feb', lambdaRisk = 0.25, strikeQuantile = 0.5,\n",
    "                                                               capQuantile = 0.95, redo = True, save = True)\n",
    "payoutAprSim = functions_revenues_contracts.snow_contract_payout(dir_generated_inputs, sweSynth.danApr, contractType = 'cfd',\n",
    "                                                               label='Apr', lambdaRisk = 0.25, strikeQuantile = 0.5,\n",
    "                                                               capQuantile = 0.95, redo = True, save = True)"
   ]
  },
  {
   "cell_type": "code",
   "execution_count": 4,
   "metadata": {},
   "outputs": [
    {
     "name": "stderr",
     "output_type": "stream",
     "text": [
      "/home/andrew/projects/hamilton-2020-managing-financial-risk-tradeoffs-for-hydropower/.venv_tradeoffs/lib/python3.6/site-packages/scipy/stats/_distn_infrastructure.py:903: RuntimeWarning: invalid value encountered in greater\n",
      "  return (a < x) & (x < b)\n",
      "/home/andrew/projects/hamilton-2020-managing-financial-risk-tradeoffs-for-hydropower/.venv_tradeoffs/lib/python3.6/site-packages/scipy/stats/_distn_infrastructure.py:903: RuntimeWarning: invalid value encountered in less\n",
      "  return (a < x) & (x < b)\n",
      "/home/andrew/projects/hamilton-2020-managing-financial-risk-tradeoffs-for-hydropower/.venv_tradeoffs/lib/python3.6/site-packages/scipy/stats/_distn_infrastructure.py:1827: RuntimeWarning: invalid value encountered in greater_equal\n",
      "  cond2 = (x >= np.asarray(_b)) & cond0\n"
     ]
    }
   ],
   "source": [
    "# print(payoutAprSim.head())\n",
    "payoutCfdSim = functions_revenues_contracts.snow_contract_payout(dir_generated_inputs, sweWtSynth, contractType = 'cfd',\n",
    "                                                               lambdaRisk = 0.25, strikeQuantile = 0.5,\n",
    "                                                               capQuantile = 0.95, redo = True, save = False)\n",
    "# print(payoutCfdSim.head())"
   ]
  },
  {
   "cell_type": "code",
   "execution_count": 5,
   "metadata": {},
   "outputs": [],
   "source": [
    "### fixed cost parameters\n",
    "meanRevenue = np.mean(revSimWyr)\n",
    "fixedCostFraction =  0.914\n",
    "### get historical swe, gen, power price, revenue, net revenue. Period of record for hydropower = WY 1988-2016\n",
    "historical_data = pd.DataFrame({'sweFeb': swe.loc[revHistWyr.index,:].danFeb, 'sweApr': swe.loc[revHistWyr.index,:].danApr})\n",
    "historical_data['gen'] = genHistWyr.tot.values/1000\n",
    "powHistWyr.index = revHistWyr.index\n",
    "historical_data['pow'] = powHistWyr\n",
    "historical_data['rev'] = revHistWyr.rev\n",
    "historical_data['netrev'] = historical_data['rev'] - (meanRevenue * fixedCostFraction)\n",
    "# get unit swe payout for historic data\n",
    "def payout(swe_value, kinkX, kinkY):\n",
    "    if (swe_value >= kinkX):\n",
    "        return kinkY \n",
    "    else:\n",
    "        return kinkY + (kinkX - swe_value)\n",
    "kinkY = np.min(payoutFebSim)\n",
    "kinkX = np.min(sweSynth.danFeb.loc[payoutFebSim < kinkY + eps])\n",
    "historical_data['cfdFeb'] = [payout(x, kinkX, kinkY) for x in historical_data['sweFeb']]\n",
    "kinkY = np.min(payoutAprSim)\n",
    "kinkX = np.min(sweSynth.danApr.loc[payoutAprSim < kinkY + eps])\n",
    "historical_data['cfdApr'] = [payout(x, kinkX, kinkY) for x in historical_data['sweApr']]\n",
    "\n",
    "historical_data.index = np.arange(1988, 2017)\n",
    "historical_data.to_csv(dir_generated_inputs + 'historical_data.csv')\n",
    "\n",
    "# read in lambdas from LHC sample\n",
    "importlib.reload(functions_revenues_contracts)\n",
    "param_list = pd.read_csv(dir_generated_inputs + 'param_LHC_sample.txt', sep=' ',\n",
    "                         header=None, names=['c','delta','Delta_fund','Delta_debt','lam'])\n",
    "# get premium shift for each lambda in dataset\n",
    "lam_prem_shift = functions_revenues_contracts.snow_contract_payout_shift_lambda(sweSynth.danFeb,\n",
    "                                                                     param_list.lam.values, contractType = 'cfd',\n",
    "                                                                     lambdaRisk = 0.25, strikeQuantile = 0.5)\n",
    "param_list['lam_prem_shift_Feb'] = lam_prem_shift\n",
    "lam_prem_shift = functions_revenues_contracts.snow_contract_payout_shift_lambda(sweSynth.danApr,\n",
    "                                                                     param_list.lam.values, contractType = 'cfd',\n",
    "                                                                     lambdaRisk = 0.25, strikeQuantile = 0.5)\n",
    "param_list['lam_prem_shift_Apr'] = lam_prem_shift\n",
    "param_list.to_csv(dir_generated_inputs + 'param_LHC_sample_withLamPremShift.txt', sep=' ', header=True, index=False)\n"
   ]
  },
  {
   "cell_type": "code",
   "execution_count": 6,
   "metadata": {},
   "outputs": [
    {
     "data": {
      "text/plain": [
       "<matplotlib.collections.PathCollection at 0x7ff816470198>"
      ]
     },
     "execution_count": 6,
     "metadata": {},
     "output_type": "execute_result"
    },
    {
     "data": {
      "image/png": "[encoded data removed]",
      "text/plain": [
       "<Figure size 432x288 with 1 Axes>"
      ]
     },
     "metadata": {},
     "output_type": "display_data"
    }
   ],
   "source": [
    "plt.scatter(param_list.lam, param_list.lam_prem_shift_Feb)\n",
    "plt.scatter(param_list.lam, param_list.lam_prem_shift_Apr)\n",
    "\n",
    "plt.figure()\n",
    "plt."
   ]
  },
  {
   "cell_type": "code",
   "execution_count": 7,
   "metadata": {},
   "outputs": [],
   "source": [
    "functions_revenues_contracts.save_synthetic_data_moea(dir_generated_inputs, sweSynth, revSimWyr, payoutFebSim, payoutAprSim)\n"
   ]
  }
 ],
 "metadata": {
  "kernelspec": {
   "display_name": ".venv_tradeoffs",
   "language": "python",
   "name": ".venv_tradeoffs"
  },
  "language_info": {
   "codemirror_mode": {
    "name": "ipython",
    "version": 3
   },
   "file_extension": ".py",
   "mimetype": "text/x-python",
   "name": "python",
   "nbconvert_exporter": "python",
   "pygments_lexer": "ipython3",
   "version": "3.6.9"
  }
 },
 "nbformat": 4,
 "nbformat_minor": 4
}
